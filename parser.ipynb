{
 "cells": [
  {
   "cell_type": "code",
   "execution_count": 1,
   "metadata": {
    "scrolled": true
   },
   "outputs": [],
   "source": [
    "# INFO 300\n",
    "# Muatasim Qazi\n",
    "# Parse UW Course Evaluation Data\n",
    "# 12/8/2018"
   ]
  },
  {
   "cell_type": "code",
   "execution_count": 4,
   "metadata": {},
   "outputs": [],
   "source": [
    "import pandas as pd\n",
    "import numpy as np\n",
    "import json\n",
    "import sys\n",
    "import ijson\n",
    "from ijson import parse\n",
    "import os\n",
    "from pandas.io.json import json_normalize\n",
    "from pandas.io.json import read_json"
   ]
  },
  {
   "cell_type": "code",
   "execution_count": 5,
   "metadata": {},
   "outputs": [],
   "source": [
    "with open('sample.json', 'r') as f:\n",
    "    data = json.load(f)"
   ]
  },
  {
   "cell_type": "code",
   "execution_count": 6,
   "metadata": {},
   "outputs": [],
   "source": [
    "# extract department name from the class value\n",
    "def get_dept(class_name):\n",
    "    section_char = \"\"\n",
    "    class_name_split = class_name.split(' ')\n",
    "    for char in class_name_split:\n",
    "        if ((len(char) == 1 and (ord(char) >= 65 and ord(char) < 91)) or char.isdigit() or char.isupper()) and len(section_char) == 0:\n",
    "                section_char = char#class_name_split[3]\n",
    "    if section_char in class_name_split:\n",
    "        section_index = class_name_split.index(section_char)\n",
    "\n",
    "        return \" \".join(class_name_split[:section_index])"
   ]
  },
  {
   "cell_type": "code",
   "execution_count": 7,
   "metadata": {},
   "outputs": [],
   "source": [
    "# remove extra characters and convert to int\n",
    "def conv_to_int(a_str):\n",
    "    return int(a_str.strip(\"\\\"\"))"
   ]
  },
  {
   "cell_type": "code",
   "execution_count": 21,
   "metadata": {},
   "outputs": [],
   "source": [
    "def extract_section_and_class(a_str):\n",
    "    return a_str[:len(a_str) - 1].strip(), a_str[len(a_str) - 2:].strip()"
   ]
  },
  {
   "cell_type": "code",
   "execution_count": 8,
   "metadata": {},
   "outputs": [],
   "source": [
    "# helper functions to categorize the quarter and year data\n",
    "def fall():\n",
    "    return \"Fall\"\n",
    "\n",
    "def winter():\n",
    "    return \"Winter\"\n",
    "\n",
    "def spring():\n",
    "    return \"Spring\"\n",
    "\n",
    "def summer():\n",
    "    return \"Summer\"\n",
    "\n",
    "switcherA = {\n",
    "        'SU': summer,\n",
    "        \"AU\": fall,\n",
    "        'WI': winter,\n",
    "        'SP': spring\n",
    "    }\n",
    "\n",
    "\n",
    "def qt_to_quarter(qt):\n",
    "    # get the function from switcher dictionary\n",
    "    func = switcherA.get(qt, \"nothing\")\n",
    "    # execute the function\n",
    "    return func()\n",
    "\n",
    "\n",
    "def get_quarter_and_year(a_str):\n",
    "    qtr_name = qt_to_quarter(a_str[:2])\n",
    "    return qtr_name, int('20' + a_str[2:]) # Summer 2018\n",
    "    "
   ]
  },
  {
   "cell_type": "code",
   "execution_count": 9,
   "metadata": {},
   "outputs": [],
   "source": [
    "# helper functions to caterorize data\n",
    "def excellent(num):\n",
    "    return \"excellent\", num\n",
    "\n",
    "def very_good(num):\n",
    "    return \"very_good\", num\n",
    "\n",
    "def good(num):\n",
    "    return \"good\", num\n",
    "\n",
    "def fair(num):\n",
    "    return \"fair\", num\n",
    "\n",
    "def poor(num):\n",
    "    return \"poor\", num\n",
    "\n",
    "def very_poor(num):\n",
    "    return \"very_poor\", num\n",
    "\n",
    "def median(num):\n",
    "    return \"median\", float(num)\n",
    "\n",
    "switcherB = {\n",
    "        0: excellent,\n",
    "        1: very_good,\n",
    "        2: good,\n",
    "        3: fair,\n",
    "        4: poor,\n",
    "        5: very_poor,\n",
    "        6: median\n",
    "    }\n",
    "\n",
    "\n",
    "def num_to_map(per, val):\n",
    "    # get the function from switcher dictionary\n",
    "    func = switcherB.get(val)\n",
    "    # execute the function\n",
    "    return func(per)"
   ]
  },
  {
   "cell_type": "code",
   "execution_count": 22,
   "metadata": {},
   "outputs": [],
   "source": [
    "# a set of all UW deparmtnet names\n",
    "uw_department_names = set() \n",
    "\n",
    "# the new data to be populated from the parsed data\n",
    "all_new_data = []\n",
    "\n",
    "with open('all_course_evaluations_latest.json', 'rb') as data:\n",
    "\n",
    "    for obj in ijson.items(data, 'item'):\n",
    "        class_name = obj['class'][0]\n",
    "        single_eval  = {}\n",
    "       \n",
    "\n",
    "        # extract the name of the department\n",
    "        department = get_dept(class_name)\n",
    "           \n",
    "        uw_department_names.add(department)\n",
    "        \n",
    "        single_eval[\"department\"] = department\n",
    "        \n",
    "        class_name, section = extract_section_and_class(class_name)\n",
    "        \n",
    "        single_eval[\"class\"] = class_name\n",
    "        single_eval[\"section\"] = section\n",
    "        \n",
    "        single_eval[\"lecturer\"] = obj['lecturer']\n",
    "        single_eval[\"enrolled\"] = conv_to_int(obj['enrolled'])\n",
    "        \n",
    "        qtr, year = get_quarter_and_year(obj['quarter'])\n",
    "        \n",
    "        single_eval[\"quarter_name\"] = qtr\n",
    "        single_eval[\"year\"] = year\n",
    "\n",
    "        statistics = obj['statistics']\n",
    "        stats_key = statistics.keys()\n",
    "\n",
    "        single_eval[\"statistic\"] = {}\n",
    "\n",
    "        for key in stats_key:\n",
    "            stats_item_list = statistics[key]\n",
    "            single_eval[\"statistic\"][key]  = []\n",
    "            for i in range(len(stats_item_list)):\n",
    "                    item = stats_item_list[i]\n",
    "                    \n",
    "                    key_a, value = num_to_map(item, i)\n",
    "\n",
    "                    single_eval[\"statistic\"][key].append({key_a: value})\n",
    "        \n",
    "        # add the single evaluation data to the new data\n",
    "        all_new_data.append(single_eval)\n",
    "        "
   ]
  },
  {
   "cell_type": "code",
   "execution_count": 24,
   "metadata": {},
   "outputs": [
    {
     "data": {
      "text/plain": [
       "15049"
      ]
     },
     "execution_count": 24,
     "metadata": {},
     "output_type": "execute_result"
    }
   ],
   "source": [
    "# the total number of rows\n",
    "len(all_new_data)"
   ]
  },
  {
   "cell_type": "code",
   "execution_count": 30,
   "metadata": {},
   "outputs": [],
   "source": [
    "data = all_new_data\n"
   ]
  },
  {
   "cell_type": "code",
   "execution_count": 31,
   "metadata": {},
   "outputs": [],
   "source": [
    "# write the clean data to a new json file\n",
    "with open('data_clean.json', 'w') as outfile:\n",
    "    json.dump(data, outfile)"
   ]
  },
  {
   "cell_type": "code",
   "execution_count": 32,
   "metadata": {},
   "outputs": [],
   "source": [
    "df = pd.DataFrame.from_dict(all_new_data)"
   ]
  },
  {
   "cell_type": "code",
   "execution_count": 33,
   "metadata": {},
   "outputs": [
    {
     "data": {
      "text/html": [
       "<div>\n",
       "<style scoped>\n",
       "    .dataframe tbody tr th:only-of-type {\n",
       "        vertical-align: middle;\n",
       "    }\n",
       "\n",
       "    .dataframe tbody tr th {\n",
       "        vertical-align: top;\n",
       "    }\n",
       "\n",
       "    .dataframe thead th {\n",
       "        text-align: right;\n",
       "    }\n",
       "</style>\n",
       "<table border=\"1\" class=\"dataframe\">\n",
       "  <thead>\n",
       "    <tr style=\"text-align: right;\">\n",
       "      <th></th>\n",
       "      <th>class</th>\n",
       "      <th>department</th>\n",
       "      <th>enrolled</th>\n",
       "      <th>lecturer</th>\n",
       "      <th>quarter_name</th>\n",
       "      <th>section</th>\n",
       "      <th>statistic</th>\n",
       "      <th>year</th>\n",
       "    </tr>\n",
       "  </thead>\n",
       "  <tbody>\n",
       "    <tr>\n",
       "      <th>0</th>\n",
       "      <td>Aeronautics &amp; Astronautics A A 101</td>\n",
       "      <td>Aeronautics &amp; Astronautics</td>\n",
       "      <td>8</td>\n",
       "      <td>Christopher Lum</td>\n",
       "      <td>Summer</td>\n",
       "      <td>A</td>\n",
       "      <td>{'The course as a whole:': [{'excellent': '71%...</td>\n",
       "      <td>2017</td>\n",
       "    </tr>\n",
       "    <tr>\n",
       "      <th>1</th>\n",
       "      <td>Arts &amp; Sciences A A 198</td>\n",
       "      <td>Arts &amp; Sciences</td>\n",
       "      <td>24</td>\n",
       "      <td>Christopher Lum</td>\n",
       "      <td>Fall</td>\n",
       "      <td>A</td>\n",
       "      <td>{'The course as a whole: ': [{'excellent': '39...</td>\n",
       "      <td>2017</td>\n",
       "    </tr>\n",
       "    <tr>\n",
       "      <th>2</th>\n",
       "      <td>Aeronautics &amp; Astronautics A A 210</td>\n",
       "      <td>Aeronautics &amp; Astronautics</td>\n",
       "      <td>70</td>\n",
       "      <td>Dana Dabiri</td>\n",
       "      <td>Spring</td>\n",
       "      <td>A</td>\n",
       "      <td>{'The course as a whole: ': [{'excellent': '27...</td>\n",
       "      <td>2018</td>\n",
       "    </tr>\n",
       "  </tbody>\n",
       "</table>\n",
       "</div>"
      ],
      "text/plain": [
       "                                class                  department  enrolled  \\\n",
       "0  Aeronautics & Astronautics A A 101  Aeronautics & Astronautics         8   \n",
       "1             Arts & Sciences A A 198             Arts & Sciences        24   \n",
       "2  Aeronautics & Astronautics A A 210  Aeronautics & Astronautics        70   \n",
       "\n",
       "          lecturer quarter_name section  \\\n",
       "0  Christopher Lum       Summer       A   \n",
       "1  Christopher Lum         Fall       A   \n",
       "2      Dana Dabiri       Spring       A   \n",
       "\n",
       "                                           statistic  year  \n",
       "0  {'The course as a whole:': [{'excellent': '71%...  2017  \n",
       "1  {'The course as a whole: ': [{'excellent': '39...  2017  \n",
       "2  {'The course as a whole: ': [{'excellent': '27...  2018  "
      ]
     },
     "execution_count": 33,
     "metadata": {},
     "output_type": "execute_result"
    }
   ],
   "source": [
    "df.head(3)"
   ]
  },
  {
   "cell_type": "code",
   "execution_count": null,
   "metadata": {},
   "outputs": [],
   "source": []
  }
 ],
 "metadata": {
  "kernelspec": {
   "display_name": "Python 3",
   "language": "python",
   "name": "python3"
  },
  "language_info": {
   "codemirror_mode": {
    "name": "ipython",
    "version": 3
   },
   "file_extension": ".py",
   "mimetype": "text/x-python",
   "name": "python",
   "nbconvert_exporter": "python",
   "pygments_lexer": "ipython3",
   "version": "3.6.6"
  }
 },
 "nbformat": 4,
 "nbformat_minor": 2
}
